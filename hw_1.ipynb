{
  "nbformat": 4,
  "nbformat_minor": 0,
  "metadata": {
    "colab": {
      "name": "Copy of DS4440-hw-1",
      "provenance": [],
      "collapsed_sections": [],
      "toc_visible": true
    },
    "kernelspec": {
      "name": "python3",
      "display_name": "Python 3"
    }
  },
  "cells": [
    {
      "cell_type": "markdown",
      "metadata": {
        "id": "wMNRa-F1-Qfw"
      },
      "source": [
        "### DS4440: Homework 1\n",
        "\n",
        "This homework covers gradient descent, and logistic regression for (binary) classification, and PyTorch.\n",
        "\n",
        "You are allowed to upload a *single* notebook file (modifying this starter notebook) to Piazza that contains answers to all problems, including the written ones (for which you much use [LaTeX](https://www.overleaf.com/learn/latex/Free_online_introduction_to_LaTeX_(part_1))).\n",
        "\n"
      ]
    },
    {
      "cell_type": "markdown",
      "metadata": {
        "id": "8l5L3Ucx-oq3"
      },
      "source": [
        "Your name: Xin Huang"
      ]
    },
    {
      "cell_type": "markdown",
      "metadata": {
        "id": "91u_8Npq--w_"
      },
      "source": [
        "## Q1: Deriving the Gradient (*35 points*)"
      ]
    },
    {
      "cell_type": "markdown",
      "metadata": {
        "id": "nhwpaeeQ_bdB"
      },
      "source": [
        "Assume we want to perform binary classification, i.e., $y_i \\in \\{0,1\\}$.\n",
        "In logistic regression, we posit the following model (parameterized by ${\\bf w}$): \n",
        "\n",
        "> $p(y_i=1|{\\bf x}_i, {\\bf w}) = \\sigma({\\bf w} \\cdot {\\bf x}_i)$\n",
        "\n",
        "Where $\\sigma$ is the sigmoid function: $\\sigma(z) = \\frac{1}{1 + e^{-z}}$. \n",
        "\n",
        "\n",
        "\n",
        "The log-likelihood for this model is:\n",
        "\n",
        "> $LL({\\bf w}| {\\bf x}, {\\bf y}) = \\sum_i y_i {\\text {ln}}\\{p(y_i|{\\bf x}_i, {\\bf w})\\} + (1 - y_i) {\\text{ln}}\\{1 - p(y_i|{\\bf x}_i, {\\bf w})\\}$\n",
        "\n",
        "\n",
        "\n",
        "Formulate this as a **minimization** problem for gradient descent, and derive the gradient with respect to the parameters ${\\bf w}$. **Show your steps**.\n",
        "\n",
        "\n",
        "\n"
      ]
    },
    {
      "cell_type": "markdown",
      "metadata": {
        "id": "NaNTifCZlLZL"
      },
      "source": [
        "### Q1 Answer"
      ]
    },
    {
      "cell_type": "markdown",
      "metadata": {
        "id": "ouy7dAVQBvYi"
      },
      "source": [
        "*Solution here*\n",
        "\n",
        "We would like to maximize our log-likelihood model and to formalize it into a minimization problem, thus we want to take the gradient for this formula\n",
        "\n",
        "> $\\nabla_w LL({\\bf w}| {\\bf x}, {\\bf y}) \n",
        "= \\nabla_w （ y {\\text {ln}}\\{p(y|{\\bf x}, {\\bf w})\\} - (1 - y) {\\text{ln}}\\{1 - p(y|{\\bf x}, {\\bf w})\\}）\n",
        "= （\\nabla_w y {\\text {ln}}\\{p(y|{\\bf x}, {\\bf w})\\} - \\nabla_w(1 - y) {\\text{ln}}\\{1 - p(y|{\\bf x}, {\\bf w})\\} ）\n",
        "= (\\frac{y}{p(y|x,w)} - \\frac{1-y}{{(1-p(y|x,w))}})\\cdot \\nabla_w p(y|x,w)$\n",
        "\n",
        "> For Sigmoid function $ \\frac{\\partial}{\\partial z} \\sigma (z) = \\sigma(z)[1-\\sigma(z)] $\n",
        "\n",
        "> Since $p(y_i = 1|x_i,w) = \\sigma({\\bf w} \\cdot {\\bf x}_i)$, so $\\nabla_w LL({\\bf w}| {\\bf x}, {\\bf y})\n",
        "= (\\frac{y}{\\sigma(w\\cdot x)} - \\frac{1-y}{1-\\sigma(w\\cdot x)}) \\cdot \\sigma(w\\cdot x) \\cdot (1-\\sigma(w\\cdot x)) \\cdot x^T \n",
        "= \\frac{y-y\\sigma(w\\cdot x) - \\sigma(w \\cdot x) + y\\sigma(w\\cdot x)}{\\sigma(w\\cdot x) \\cdot (1-\\sigma(w\\cdot x))} \\cdot \\sigma(w\\cdot x) \\cdot (1-\\sigma(w\\cdot x)) \\cdot x^T\n",
        "= [y - \\sigma(w \\cdot x)] \\cdot x^T $\n",
        "\n",
        "> Thus, to have good-fit model, gradient log-likelihood $\\nabla_w LL({\\bf w}| {\\bf x}_i, {\\bf y}_i) = \\sum_i[y_i - \\sigma(w \\cdot x_i)] \\cdot x_i^T$, so the loss function would be $\\nabla_w LL({\\bf w}| {\\bf x}, {\\bf y})\n",
        "= - \\sum_i[y_i - \\sigma(w \\cdot x_i)] \\cdot x_i^T $ and we can update our $w$ as following:\n",
        "\n",
        "> $w_{new} = w_{old} + \\lambda (\\sum_i[y_i - \\sigma(w \\cdot x_i)] \\cdot x_i^T)$, $\\lambda$ is the learning rate\n"
      ]
    },
    {
      "cell_type": "markdown",
      "metadata": {
        "id": "qS3kSK6jtTXZ"
      },
      "source": [
        "# Logistic Regression: 3-ways!\n",
        "\n",
        "In this section you will implement logistic regression in two different ways.\n",
        "For each, fit to the simple Iris data; you can get the `X`, `y` values via the provided helper function.\n",
        "Do not include bias (`intercept') terms. \n",
        "\n",
        "For each version of LR below, divvy your data into a validation set (we'll say 10% of the iris X, y), and a training set (the rest)\n",
        "Compute a validation loss each epoch, and retain these\n",
        "Make plots of your validation losses (a helper function is provided).\n",
        "Print your model weights.\n",
        "Don't forget to rerun everything when you have finished!"
      ]
    },
    {
      "cell_type": "markdown",
      "metadata": {
        "id": "EgsQfNovC1_g"
      },
      "source": [
        "#### Shared imports and helper functions"
      ]
    },
    {
      "cell_type": "code",
      "metadata": {
        "id": "Ah0eVS_H_CwZ"
      },
      "source": [
        "# imports\n",
        "import random\n",
        "import numpy as np\n",
        "import matplotlib.pyplot as plt\n",
        "import pandas as pd \n",
        "import sklearn\n",
        "from sklearn.utils import shuffle\n",
        "from sklearn.metrics import accuracy_score, log_loss\n",
        "\n",
        "def get_iris_X_y(shuffle_instances=True):\n",
        "  '''\n",
        "  The Iris dataset is a famous dataset comprising flower characteristics.\n",
        "  We'll recast as a binary classification task.\n",
        "  '''\n",
        "  iris_df = pd.read_csv('https://archive.ics.uci.edu/ml/machine-learning-databases/iris/iris.data', \n",
        "                   header=None)\n",
        "  y = iris_df.iloc[0:100, 4].values \n",
        "  y = np.where(y == 'Iris-setosa', -1, 1)\n",
        "  y[y<0] = 0 # convert to 1/0 labels\n",
        "  X = iris_df.iloc[0:100, [0, 2]].values\n",
        "  if shuffle_instances:\n",
        "    X, y = shuffle(X, y, random_state=0)\n",
        "  return X, y\n",
        "\n",
        "\n",
        "def sigmoid(x):\n",
        "  ''' a useful helper function. '''\n",
        "  return 1/(1+np.exp(-x))\n",
        "\n",
        "\n"
      ],
      "execution_count": null,
      "outputs": []
    },
    {
      "cell_type": "markdown",
      "metadata": {
        "id": "z1VdyidqCMRE"
      },
      "source": [
        "y### Q2. Pure `numpy` implementation (*35 points*)"
      ]
    },
    {
      "cell_type": "code",
      "metadata": {
        "id": "bsBcCreHsFuS",
        "colab": {
          "base_uri": "https://localhost:8080/",
          "height": 326
        },
        "outputId": "877937ec-f00b-4610-b7a9-377caa7ba77c"
      },
      "source": [
        "def LR_SGD(X, y, epochs, alpha=0.1):\n",
        "  '''\n",
        "  Parameters\n",
        "  ---\n",
        "  X: (n x d) matrix comprising n instances with d dimensions/features.\n",
        "  y: (n x 1) vector comprising labels (0/1)\n",
        "  epochs: number of epochs to run\n",
        "  alpha: the learning rate\n",
        "  '''\n",
        "\n",
        "  ###\n",
        "  \n",
        "  w = np.random.rand(X.shape[1])\n",
        "  \n",
        "  for epoch in range(epochs):\n",
        "    for i in range(X.shape[0]):\n",
        "      net_input = np.dot(X[i,:],w)\n",
        "      grad = np.dot((y[i] - sigmoid(net_input)),X[i,:]) ##Calculate the gradient\n",
        "      w = w + (alpha * grad) ##Update w by learning rate and gradient\n",
        "  return w\n",
        "\n",
        "X,y = get_iris_X_y()\n",
        "y_train = y[0:90]\n",
        "X_train = X[0:90,:]\n",
        "w = LR_SGD(X_train,y_train,10000)\n",
        "y_hat1 = sigmoid(np.dot(X,w))\n",
        "print(w)\n",
        "\n",
        "##Plot loss for validation set\n",
        "def Losses_SGD(X,y,w,epchos):\n",
        "  \n",
        "  losses = [] #record losses\n",
        "  alpha = 0.1\n",
        "  for e in range(epchos):\n",
        "    y_hat = sigmoid(np.dot(X,w))\n",
        "    epoch_loss = log_loss(y,y_hat)\n",
        "    losses.append(epoch_loss)\n",
        "    for i in range(X.shape[0]):\n",
        "      net_input = np.dot(X[i,:],w)\n",
        "      grad = np.dot((y[i] - sigmoid(net_input)),X[i,:]) ##Calculate the gradient\n",
        "      w = w + (alpha * grad)\n",
        "  return losses\n",
        "\n",
        "y_val = y[90:100]\n",
        "X_val = X[90:100,:]\n",
        "v_losses1 = Losses_SGD(X_val,y_val,w,10000)\n",
        "plt.plot(v_losses1)\n",
        "plt.xlabel(\"epoch\")\n",
        "plt.ylabel(\"errors\")\n",
        "\n",
        "\n",
        "\n"
      ],
      "execution_count": null,
      "outputs": [
        {
          "output_type": "stream",
          "text": [
            "[-6.53268475 13.21558807]\n"
          ],
          "name": "stdout"
        },
        {
          "output_type": "execute_result",
          "data": {
            "text/plain": [
              "Text(0, 0.5, 'errors')"
            ]
          },
          "metadata": {
            "tags": []
          },
          "execution_count": 24
        },
        {
          "output_type": "display_data",
          "data": {
            "image/png": "[encoded data removed]",
            "text/plain": [
              "<Figure size 432x288 with 1 Axes>"
            ]
          },
          "metadata": {
            "tags": [],
            "needs_background": "light"
          }
        }
      ]
    },
    {
      "cell_type": "markdown",
      "metadata": {
        "id": "ynhblmNwsPi3"
      },
      "source": [
        "### Q3 `pytorch` implementation -- **no NN module** (*20 points*)"
      ]
    },
    {
      "cell_type": "code",
      "metadata": {
        "id": "0L8JGXBtsjln",
        "colab": {
          "base_uri": "https://localhost:8080/",
          "height": 70
        },
        "outputId": "296a19f2-f20e-41e4-e1c8-10067e738e2f"
      },
      "source": [
        "!pip3 install torch\n",
        "\n",
        "import torch\n",
        "from torch.autograd import Variable"
      ],
      "execution_count": null,
      "outputs": [
        {
          "output_type": "stream",
          "text": [
            "Requirement already satisfied: torch in /usr/local/lib/python3.6/dist-packages (1.6.0+cu101)\n",
            "Requirement already satisfied: future in /usr/local/lib/python3.6/dist-packages (from torch) (0.16.0)\n",
            "Requirement already satisfied: numpy in /usr/local/lib/python3.6/dist-packages (from torch) (1.18.5)\n"
          ],
          "name": "stdout"
        }
      ]
    },
    {
      "cell_type": "code",
      "metadata": {
        "id": "qYQpSQrNsnuH",
        "colab": {
          "base_uri": "https://localhost:8080/",
          "height": 311
        },
        "outputId": "0ce521ff-e2d8-4144-f861-8f949ad873fd"
      },
      "source": [
        "import tensorflow as tf\n",
        "def MSE(y_hat,y):\n",
        "  return torch.pow(y_hat - y, 2).sum()\n",
        "\n",
        "def LR_torch_no_nn(X, y):\n",
        "  ####\n",
        "  y_train = y[0:90]\n",
        "  X_train = X[0:90,:]\n",
        "  y_val = y[90:100]\n",
        "  X_val = X[90:100,:]\n",
        "\n",
        "  x_train_t = Variable(torch.from_numpy(X_train)).float()\n",
        "  y_train_t = Variable(torch.from_numpy(y_train)).float()\n",
        "  x_val_t = Variable(torch.from_numpy(X_val)).float()\n",
        "  y_val_t = Variable(torch.from_numpy(y_val)).float()\n",
        "\n",
        "  w = torch.randn(2,1,dtype = torch.float,requires_grad = True)\n",
        "  epochs = 100000\n",
        "  learning_rate = 0.0005\n",
        "  val_losses = np.array([])\n",
        "  for e in range(epochs):\n",
        "    y_hat = torch.sigmoid(torch.mm(x_train_t,w))\n",
        "    loss = -1 * MSE(y_hat,y_train_t)\n",
        "    loss.backward()\n",
        "    with torch.no_grad():\n",
        "        w -= learning_rate * w.grad\n",
        "        # Manually zero the gradients after updating weights\n",
        "        w.grad.zero_()\n",
        "\n",
        "    y_hat_val = torch.sigmoid(torch.mm(x_val_t,w))\n",
        "    val_loss = -1 * MSE(y_hat_val,y_val_t)\n",
        "    val_loss.backward\n",
        "    val_loss_np = val_loss.detach().numpy()\n",
        "    val_losses = np.append(val_losses, [val_loss_np])\n",
        "\n",
        "    with torch.no_grad():\n",
        "        w -= learning_rate * w.grad\n",
        "        # Manually zero the gradients after updating weights\n",
        "        w.grad.zero_()\n",
        "  return w, val_losses\n",
        "\n",
        "w, val_losses = LR_torch_no_nn(X, y)\n",
        "x_plot = np.linspace(0, 1000, num=100000, endpoint=False)\n",
        "plt.scatter(x_plot, val_losses)\n",
        "print(w)\n",
        "\n",
        "  "
      ],
      "execution_count": null,
      "outputs": [
        {
          "output_type": "stream",
          "text": [
            "tensor([[-3.0364],\n",
            "        [-0.5695]], requires_grad=True)\n"
          ],
          "name": "stdout"
        },
        {
          "output_type": "display_data",
          "data": {
            "image/png": "[encoded data removed]",
            "text/plain": [
              "<Figure size 432x288 with 1 Axes>"
            ]
          },
          "metadata": {
            "tags": [],
            "needs_background": "light"
          }
        }
      ]
    },
    {
      "cell_type": "markdown",
      "metadata": {
        "id": "mK1ERujYstSm"
      },
      "source": [
        "### Q4 `pytorch` implementation -- **with the NN module** (*10 points*)"
      ]
    },
    {
      "cell_type": "code",
      "metadata": {
        "id": "drynANlos8gb"
      },
      "source": [
        "import torch.nn as nn"
      ],
      "execution_count": null,
      "outputs": []
    },
    {
      "cell_type": "code",
      "metadata": {
        "id": "3uu08ngNscRe",
        "colab": {
          "base_uri": "https://localhost:8080/",
          "height": 390
        },
        "outputId": "ee940354-4a8b-4e96-b429-69e0d61222f3"
      },
      "source": [
        "class LogReg(nn.Module):\n",
        "\n",
        "  def __init__(self,d):\n",
        "    super(LogReg,self).__init__()\n",
        "    self.linear = nn.Linear(d,1,bias=False)\n",
        "  \n",
        "  def forward(self,x):\n",
        "    z = self.linear(x)\n",
        "    return torch.sigmoid(z)\n",
        "\n",
        "def LR_torch(X, y):\n",
        "  ####\n",
        "  y_train = y[0:90]\n",
        "  X_train = X[0:90,:]\n",
        "  y_val = y[90:100]\n",
        "  X_val = X[90:100,:]\n",
        "\n",
        "  d = len(X_train[0])\n",
        "  L = nn.BCELoss()\n",
        "  m = LogReg(d = len(X_train[0]))\n",
        "  optimizer = torch.optim.SGD(m.parameters(),lr = 0.01)\n",
        "\n",
        "  x_train_t = torch.from_numpy(X_train).float()\n",
        "  y_train_t = torch.from_numpy(y_train).float()\n",
        "  x_val_t = torch.from_numpy(X_val).float()\n",
        "  y_val_t = torch.from_numpy(y_val).float()\n",
        "\n",
        "  epochs = 100000\n",
        "  val_losses = np.array([])\n",
        "  for e in range(epochs):\n",
        "    optimizer.zero_grad()\n",
        "    predictions = m(x_train_t)\n",
        "    loss = L(predictions,y_train_t)\n",
        "    loss.backward()\n",
        "    optimizer.step()\n",
        "    \n",
        "    val_loss_np = L(m(x_val_t), y_val_t).detach().numpy()\n",
        "    val_losses = np.append(val_losses, [val_loss_np])\n",
        "\n",
        "    \n",
        "  return val_losses, m\n",
        "\n",
        "losses, model = LR_torch(X,y)\n",
        "x_plot = np.linspace(0, 1000, num=100000, endpoint=False)\n",
        "plt.scatter(x_plot, losses)\n",
        "print(list(model.parameters()))"
      ],
      "execution_count": null,
      "outputs": [
        {
          "output_type": "stream",
          "text": [
            "/usr/local/lib/python3.6/dist-packages/torch/nn/modules/loss.py:529: UserWarning: Using a target size (torch.Size([90])) that is different to the input size (torch.Size([90, 1])) is deprecated. Please ensure they have the same size.\n",
            "  return F.binary_cross_entropy(input, target, weight=self.weight, reduction=self.reduction)\n",
            "/usr/local/lib/python3.6/dist-packages/torch/nn/modules/loss.py:529: UserWarning: Using a target size (torch.Size([10])) that is different to the input size (torch.Size([10, 1])) is deprecated. Please ensure they have the same size.\n",
            "  return F.binary_cross_entropy(input, target, weight=self.weight, reduction=self.reduction)\n"
          ],
          "name": "stderr"
        },
        {
          "output_type": "stream",
          "text": [
            "[Parameter containing:\n",
            "tensor([[-3.3278,  6.6559]], requires_grad=True)]\n"
          ],
          "name": "stdout"
        },
        {
          "output_type": "display_data",
          "data": {
            "image/png": "[encoded data removed]",
            "text/plain": [
              "<Figure size 432x288 with 1 Axes>"
            ]
          },
          "metadata": {
            "tags": [],
            "needs_background": "light"
          }
        }
      ]
    },
    {
      "cell_type": "code",
      "metadata": {
        "id": "B3FAsI1tNCPf"
      },
      "source": [
        ""
      ],
      "execution_count": null,
      "outputs": []
    },
    {
      "cell_type": "code",
      "metadata": {
        "id": "2Hg2YlModDl5"
      },
      "source": [
        ""
      ],
      "execution_count": null,
      "outputs": []
    }
  ]
}