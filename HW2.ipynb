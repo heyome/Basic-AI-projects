{
  "nbformat": 4,
  "nbformat_minor": 0,
  "metadata": {
    "colab": {
      "name": "Copy of DS4440-HW2-starter.ipynb",
      "provenance": [],
      "collapsed_sections": []
    },
    "kernelspec": {
      "name": "python3",
      "display_name": "Python 3"
    },
    "accelerator": "GPU"
  },
  "cells": [
    {
      "cell_type": "markdown",
      "metadata": {
        "id": "gJ8bnBQfHFhX"
      },
      "source": [
        "# DS 4440: HW2\n",
        "\n",
        "Due 10/1!"
      ]
    },
    {
      "cell_type": "code",
      "metadata": {
        "id": "KvODLT9fHDGY"
      },
      "source": [
        "import numpy as np # NumPy only!"
      ],
      "execution_count": null,
      "outputs": []
    },
    {
      "cell_type": "markdown",
      "metadata": {
        "id": "aQop755dHDbD"
      },
      "source": [
        "## Q1. Implement the MLP class \n",
        "\n",
        "You *must* include `fit` and `predict` methods. You may (and probably should) of course implement other functions, as needed. "
      ]
    },
    {
      "cell_type": "code",
      "metadata": {
        "id": "BmCh9eJIHNR_"
      },
      "source": [
        "from sklearn.metrics import accuracy_score\n",
        "def sigmoid(x):\n",
        "    #sigmoid function\n",
        "    return 1.0 / (1.0 + np.exp(-x))\n",
        "\n",
        "def sigmoid_prime(x):\n",
        "    #derivative of sigmoid\n",
        "    return sigmoid(x) * (1.0 - sigmoid(x))\n",
        "\n",
        "class MLP:\n",
        "\n",
        "    def __init__(self, input_size, hidden_dims=32, alpha=.002):\n",
        "        '''\n",
        "        Instantiate MLP using given parameters. \n",
        "        \n",
        "        You may assume that there is only a single hidden layer\n",
        "        (i.e., you need not generalize to handle arbitrary numbers of\n",
        "        hidden layers).\n",
        "        \n",
        "        \\alpha is the learning rate.\n",
        "        '''\n",
        "        self.hidden_dims = hidden_dims\n",
        "        self.input_size = input_size\n",
        "        self.learning_rate = alpha\n",
        "  \n",
        "\n",
        "    def predict(self, X):\n",
        "        '''\n",
        "        Yield predictions \\hat{y} for instances X.\n",
        "        '''\n",
        "        h = np.dot(X,self.w1) + self.b1\n",
        "        h = sigmoid(h)\n",
        "        y_hat = np.dot(h,self.w2) + self.b2\n",
        "        y_hat = sigmoid(y_hat)\n",
        "        y_hat = np.where(y_hat >= 0.5, 1, 0)\n",
        "        return y_hat\n",
        "\n",
        "\n",
        "    def fit(self, X, y, epochs=1000, verbose=True, X_test = None, y_test = None):\n",
        "        '''\n",
        "        Train the model via backprop for the specified number of epochs.\n",
        "        '''\n",
        "        ##initialize the weights vectors\n",
        "        self.input_size = X.shape[1]\n",
        "        np.random.seed(100)\n",
        "        self.w1 = np.random.randn(self.input_size,self.hidden_dims)\n",
        "        self.w2 = np.random.randn(self.hidden_dims)\n",
        "\n",
        "        self.b1 = np.random.randn(X.shape[0],self.hidden_dims)\n",
        "        self.b2 = np.random.randn(y.shape[0])\n",
        "        \n",
        "        accuracies_train = [] \n",
        "        accuracies_test = []\n",
        "\n",
        "        for epoch in range(epochs):\n",
        "          h = np.dot(X,self.w1) + self.b1\n",
        "          h_sig = sigmoid(h)\n",
        "          y_hat = np.dot(h_sig,self.w2) + self.b2\n",
        "          y_hat_sig = sigmoid(y_hat)\n",
        "\n",
        "          ##calculate the gradients\n",
        "          delta = sigmoid_prime(y_hat) *(y_hat_sig - y) \n",
        "          grad_b2 = self.learning_rate * delta\n",
        "          grad_w2 = self.learning_rate * np.dot(h_sig.transpose(),delta)\n",
        "          \n",
        "          delta1 = np.zeros(self.b1.shape)\n",
        "          for i in range(len(delta)):\n",
        "            delta1[i] = self.learning_rate * np.dot(self.w2,delta[i])\n",
        "\n",
        "          grad_b1 = delta1 * sigmoid_prime(h)\n",
        "          grad_w1 = np.dot(X.transpose(),grad_b1)\n",
        "          \n",
        "          ##update w1,b1 for the MLP\n",
        "          self.w1 -= grad_w1\n",
        "          self.b1 -= grad_b1\n",
        "          ##update w2,b2 for the MLP\n",
        "          self.w2 -= grad_w2\n",
        "          self.b2 -= grad_b2\n",
        "          \n",
        "          \n",
        "          predict_train = self.predict(X)\n",
        "          accuracy_train = accuracy_score(y,predict_train)\n",
        "          accuracies_train.append(accuracy_train)\n",
        "          \n",
        "          if X_test.any:\n",
        "            predict_test = self.predict(X_test)\n",
        "            accuracy_test = accuracy_score(y_test,predict_test)\n",
        "            accuracies_test.append(accuracy_test)\n",
        "          \n",
        "        return accuracies_train, accuracies_test\n",
        "          \n",
        "\n",
        "       \n",
        "    \n",
        "    "
      ],
      "execution_count": null,
      "outputs": []
    },
    {
      "cell_type": "markdown",
      "metadata": {
        "id": "gOXTpMLXIAYC"
      },
      "source": [
        "## Q2. Test the Implementation\n",
        "\n",
        "You should: \n",
        "\n",
        "\n",
        "\n",
        "*  Use sklearn `make_classification` to create a simple dataset comprising 1000 samples -- be sure to include both informative and noisy features!\n",
        "* Split this into equal sized disjoint train and test sets. \n",
        "* Instantiate your MLP and fit to the train data\n",
        "* Instantiate the MLP defined in `sklearn.neural_network.MLP` (using same hyperparameters!) and fit to the train data.\n",
        "* Make predictions for the test dataset using both models, generate metrics using `classification_report` from `sklearn`.\n",
        "* Assert (by inspection is fine) that these models achieve comparable results (**Hint** the MLP may be sensitive to the number of epochs -- as per the following question.)\n",
        "\n",
        "\n",
        "Sample output below -- feel free to elaborate. "
      ]
    },
    {
      "cell_type": "code",
      "metadata": {
        "id": "1ed2b9xdHiBj",
        "colab": {
          "base_uri": "https://localhost:8080/",
          "height": 404
        },
        "outputId": "572a0a9a-f0f4-4e0b-ef44-4f3dac5e11e1"
      },
      "source": [
        "from sklearn.datasets import make_classification\n",
        "from sklearn.model_selection import train_test_split\n",
        "from sklearn.neural_network import MLPClassifier\n",
        "from sklearn.metrics import classification_report\n",
        "\n",
        "X,y = make_classification(n_samples = 1000,n_repeated= 2)\n",
        "X_train, X_test, y_train, y_test = train_test_split(\n",
        "    X, y, test_size=0.5)\n",
        "##generate my MLP\n",
        "my_MLP = MLP(X_train[1])\n",
        "##my MLP fit to the train data\n",
        "accuracies_train, accuracies_test = my_MLP.fit(X_train,y_train,\n",
        "                                               X_test=X_test,y_test=y_test)\n",
        "##generate the sklearn.neural_network.MLP and fit to the train data\n",
        "clf = MLPClassifier(random_state=1, max_iter=3000).fit(X_train, y_train)\n",
        "##make predictions\n",
        "y_hat_clf = clf.predict(X_test)\n",
        "my_y_hat = my_MLP.predict(X_test)\n",
        "print(\"performance of sklearn implementation:\")\n",
        "print(classification_report(y_test, y_hat_clf))\n",
        "print(accuracy_score(y_test,y_hat_clf))\n",
        "print(\"performance of above MLP implementation:\")\n",
        "print(classification_report(y_test, my_y_hat))\n",
        "print(accuracy_score(y_test,my_y_hat))\n"
      ],
      "execution_count": null,
      "outputs": [
        {
          "output_type": "stream",
          "text": [
            "performance of sklearn implementation:\n",
            "              precision    recall  f1-score   support\n",
            "\n",
            "           0       0.86      0.79      0.82       258\n",
            "           1       0.79      0.86      0.83       242\n",
            "\n",
            "    accuracy                           0.83       500\n",
            "   macro avg       0.83      0.83      0.83       500\n",
            "weighted avg       0.83      0.83      0.83       500\n",
            "\n",
            "0.826\n",
            "performance of above MLP implementation:\n",
            "              precision    recall  f1-score   support\n",
            "\n",
            "           0       0.87      0.81      0.84       258\n",
            "           1       0.81      0.87      0.84       242\n",
            "\n",
            "    accuracy                           0.84       500\n",
            "   macro avg       0.84      0.84      0.84       500\n",
            "weighted avg       0.84      0.84      0.84       500\n",
            "\n",
            "0.836\n"
          ],
          "name": "stdout"
        }
      ]
    },
    {
      "cell_type": "markdown",
      "metadata": {
        "id": "XI0EK7w6UDIU"
      },
      "source": [
        "## Q3 Exploring the bias-variance trade-off"
      ]
    },
    {
      "cell_type": "markdown",
      "metadata": {
        "id": "JS0n7rWn4PLw"
      },
      "source": [
        "#### A. \n",
        "Using `matplotlib` (see [here](https://https://colab.research.google.com/notebooks/charts.ipynb#scrollTo=08RTGn_xE3MP)), plot train and test performances as a function of epochs"
      ]
    },
    {
      "cell_type": "code",
      "metadata": {
        "id": "GuYnfWgNUEdk",
        "colab": {
          "base_uri": "https://localhost:8080/",
          "height": 295
        },
        "outputId": "19a1ab90-2dfd-4b64-b2f6-37a925416aab"
      },
      "source": [
        "import matplotlib.pyplot as plt\n",
        "plt.plot(accuracies_train,label = \"train accuracy\")\n",
        "plt.plot(accuracies_test,label = \"test accuracy\")\n",
        "plt.legend()\n",
        "plt.xlabel(\"Epochs\")\n",
        "plt.ylabel(\"Accuracy\")\n",
        "plt.title(\"Accuracies for training and test dateset\")\n",
        "plt.show()\n",
        "    "
      ],
      "execution_count": null,
      "outputs": [
        {
          "output_type": "display_data",
          "data": {
            "image/png": "[encoded data removed]",
            "text/plain": [
              "<Figure size 432x288 with 1 Axes>"
            ]
          },
          "metadata": {
            "tags": [],
            "needs_background": "light"
          }
        }
      ]
    },
    {
      "cell_type": "code",
      "metadata": {
        "id": "8C9ZXVdGV6Qr"
      },
      "source": [
        ""
      ],
      "execution_count": null,
      "outputs": []
    },
    {
      "cell_type": "markdown",
      "metadata": {
        "id": "7PpYkaSgvRQw"
      },
      "source": [
        "#### B.\n",
        "Let's see how additional hidden dims affect this (if at all)"
      ]
    },
    {
      "cell_type": "code",
      "metadata": {
        "id": "wN1xf-TttfT8"
      },
      "source": [
        "MLP16 = MLP(X_train[1],hidden_dims=16)\n",
        "accuracies_train16, accuracies_test16 = MLP16.fit(X_train,y_train,\n",
        "                                               X_test=X_test,y_test=y_test)\n",
        "MLP256 = MLP(X_train[1],hidden_dims=256)\n",
        "accuracies_train256, accuracies_test256 = MLP256.fit(X_train,y_train,\n",
        "                                               X_test=X_test,y_test=y_test)\n"
      ],
      "execution_count": null,
      "outputs": []
    },
    {
      "cell_type": "code",
      "metadata": {
        "id": "EYccLK6_wA6f",
        "colab": {
          "base_uri": "https://localhost:8080/",
          "height": 295
        },
        "outputId": "c6ebe5f1-d4b8-461b-94cd-1b7dde1472ea"
      },
      "source": [
        "plt.plot(accuracies_train16,'b',label = \"train accuracy (16)\")\n",
        "plt.plot(accuracies_test16,'b',label = \"test accuracy (16)\",linestyle='dashed')\n",
        "plt.plot(accuracies_train256,'g',label = \"train accuracy (256)\")\n",
        "plt.plot(accuracies_test256,'g',label = \"test accuracy (256)\",linestyle='dashed')\n",
        "plt.legend()\n",
        "plt.xlabel(\"Epochs\")\n",
        "plt.ylabel(\"Accuracy\")\n",
        "plt.title(\"Accuracies for training and test dateset\")\n",
        "plt.show()"
      ],
      "execution_count": null,
      "outputs": [
        {
          "output_type": "display_data",
          "data": {
            "image/png": "[encoded data removed]",
            "text/plain": [
              "<Figure size 432x288 with 1 Axes>"
            ]
          },
          "metadata": {
            "tags": [],
            "needs_background": "light"
          }
        }
      ]
    },
    {
      "cell_type": "markdown",
      "metadata": {
        "id": "k4sXuaM-wln3"
      },
      "source": [
        "So we can see the overfitting is more pronounced when we have more dimensions (free parameters)"
      ]
    },
    {
      "cell_type": "markdown",
      "metadata": {
        "id": "hm387Opr0gQ3"
      },
      "source": [
        "## Q4 Modify your implementation above to be a multi-class MLP\n",
        "\n",
        "We recommend making a copy of your code above; you may see why in your implementation."
      ]
    },
    {
      "cell_type": "code",
      "metadata": {
        "id": "w8PEbS9i0pqZ"
      },
      "source": [
        "class MMLP:\n",
        "\n",
        "    def __init__(self, input_size, output_size, hidden_dims=32, alpha=.005):\n",
        "        '''\n",
        "        Instantiate MLP using given parameters. \n",
        "        \n",
        "        You may assume that there is only a single hidden layer\n",
        "        (i.e., you need not generalize to handle arbitrary numbers of\n",
        "        hidden layers).\n",
        "        \n",
        "        \\alpha is the learning rate.\n",
        "        '''\n",
        "        assert(output_size > 1)\n",
        "        self.hidden_dims = hidden_dims\n",
        "        self.input_size = input_size\n",
        "        self.learning_rate = alpha\n",
        "        self.output_size = output_size\n",
        "\n",
        "    def predict(self, X):\n",
        "        '''\n",
        "        Yield predictions \\hat{y} for instances X. To match the data generation \n",
        "        process, return the index of the highest performing class.\n",
        "        '''\n",
        "        h = np.dot(X,self.w1) + self.b1\n",
        "        h = sigmoid(h)\n",
        "        y_hat = np.dot(h,self.w2) + self.b2\n",
        "        y_hat = sigmoid(y_hat)\n",
        "        y_pred = np.argmax(y_hat, axis=1)\n",
        "        return y_pred\n",
        "      \n",
        "\n",
        "    def fit(self, X, y, epochs=5000, verbose=True, X_test = None, y_test = None):\n",
        "        '''\n",
        "        Train the model via backprop for the specified number of epochs.\n",
        "       \n",
        "        '''\n",
        "        ##initialize the weights vectors\n",
        "        self.input_size = X.shape[1]\n",
        "        np.random.seed(5)\n",
        "        self.w1 = np.random.randn(self.input_size,self.hidden_dims)\n",
        "        self.w2 = np.random.randn(self.hidden_dims,self.output_size)\n",
        "\n",
        "        self.b1 = np.random.randn(X.shape[0],self.hidden_dims)\n",
        "        self.b2 = np.random.randn(y.shape[0],self.output_size)\n",
        "        \n",
        "        accuracies_train = [] \n",
        "        accuracies_test = []\n",
        "\n",
        "        for epoch in range(epochs):\n",
        "          ##convert Y to multipe classes accordingly\n",
        "          Y = []\n",
        "          for i in range(self.output_size):\n",
        "            Y.append(np.where(y == i, 1, 0))\n",
        "\n",
        "          h = np.dot(X,self.w1) + self.b1\n",
        "          h_sig = sigmoid(h)\n",
        "          y_hat = np.dot(h_sig,self.w2) + self.b2\n",
        "          y_hat_sig = sigmoid(y_hat)\n",
        "\n",
        "          ##calculate the gradients\n",
        "          delta = sigmoid_prime(y_hat.transpose()) *(y_hat_sig.transpose() - Y) \n",
        "          grad_b2 = self.learning_rate * delta\n",
        "          grad_w2 = self.learning_rate * np.dot(delta,h_sig)\n",
        "          \n",
        "          delta1 = self.learning_rate * np.dot(self.w2,delta)\n",
        "\n",
        "          grad_b1 = delta1.transpose() * sigmoid_prime(h)\n",
        "          grad_w1 = np.dot(X.transpose(),grad_b1)\n",
        "          \n",
        "          ##update w1,b1 for the MLP\n",
        "          self.w1 -= grad_w1\n",
        "          self.b1 -= grad_b1\n",
        "          ##update w2,b2 for the MLP\n",
        "          self.w2 -= grad_w2.transpose()\n",
        "          self.b2 -= grad_b2.transpose()\n",
        "          \n",
        "          \n",
        "          predict_train = self.predict(X)\n",
        "          accuracy_train = accuracy_score(y,predict_train)\n",
        "          accuracies_train.append(accuracy_train)\n",
        "          \n",
        "          if X_test.any:\n",
        "            predict_test = self.predict(X_test)\n",
        "            accuracy_test = accuracy_score(y_test,predict_test)\n",
        "            accuracies_test.append(accuracy_test)\n",
        "          \n",
        "        return accuracies_train, accuracies_test\n",
        "        \n"
      ],
      "execution_count": null,
      "outputs": []
    },
    {
      "cell_type": "markdown",
      "metadata": {
        "id": "z9c8vBOP0qlb"
      },
      "source": [
        "## Q5 Implement Precision, Recall, micro-averaged F1, macro-averaged F1"
      ]
    },
    {
      "cell_type": "code",
      "metadata": {
        "id": "3OwizskG1QW0",
        "colab": {
          "base_uri": "https://localhost:8080/",
          "height": 34
        },
        "outputId": "ae97d742-3e6b-4b73-a378-8a96b37bc975"
      },
      "source": [
        "def cla_report(y,y_hat):\n",
        "    classes = []\n",
        "    for i in y:\n",
        "      if i not in classes:\n",
        "        classes.append(i)\n",
        "    classes.sort()\n",
        "    stats = np.zeros((len(classes),3))\n",
        "\n",
        "    for a,b in zip(y,y_hat):\n",
        "      index_b = classes.index(b)\n",
        "      index_a = classes.index(a)\n",
        "      if a == b:\n",
        "        stats[index_b,:] += 1 \n",
        "      else:\n",
        "        stats[index_b,1] += 1\n",
        "        stats[index_a,2] += 1\n",
        "\n",
        "    precision = []\n",
        "    recall = []\n",
        "    macro_f1_ls = []\n",
        "    sum = np.zeros(3)\n",
        "    for j in range(len(classes)):\n",
        "      p = stats[j,0]/stats[j,1]\n",
        "      r = stats[j,0]/stats[j,2]\n",
        "\n",
        "      precision.append([classes[j],round(p,2)])\n",
        "      recall.append([classes[j],round(r,2)])\n",
        "      sum += stats[j]\n",
        "      macro_f1_ls.append(p*r*2/(p+r))\n",
        "\n",
        "    total_precesion = sum[0] / sum[1]\n",
        "    total_recell = sum[0] / sum[2]\n",
        "    micro_f1 = 2 * total_precesion *total_recell / (total_precesion + total_recell)\n",
        "    micro_f1 = round(micro_f1,2)\n",
        "  \n",
        "    macro_f1 = np.sum(macro_f1_ls) / len(macro_f1_ls)\n",
        "    macro_f1 = round(macro_f1,2)\n",
        "\n",
        "    return precision,recall,micro_f1,macro_f1\n",
        "\n",
        "\n",
        "\n",
        "\n",
        "##test function\n",
        "y1 = [0,0,0,0,1,1,1,2,2]\n",
        "y2 = [0,0,1,2,1,1,2,1,2]\n",
        "precision,recall,micro_f1,macro_f1 = cla_report(y1, y2)\n",
        "\n",
        "print(precision,recall,micro_f1,macro_f1)"
      ],
      "execution_count": null,
      "outputs": [
        {
          "output_type": "stream",
          "text": [
            "[[0, 1.0], [1, 0.5], [2, 0.33]] [[0, 0.5], [1, 0.67], [2, 0.5]] 0.56 0.55\n"
          ],
          "name": "stdout"
        }
      ]
    },
    {
      "cell_type": "markdown",
      "metadata": {
        "id": "4zextkap1Qkg"
      },
      "source": [
        "## Q6 Explore the bias-variance trade-off for multi-class classification.\n",
        "\n",
        "You should: \n",
        "\n",
        "\n",
        "*  Use sklearn `make_classification` to create a simple dataset comprising 2000 samples -- be sure to include both informative and noisy features! Use 5 classes for the moment.\n",
        "* Split this into equal sized disjoint train and test sets. \n",
        "* Instantiate your MMLP and fit to the train data\n",
        "* Explore bias/variance/precision/recall trade-offs as defined in the homework.\n",
        "\n",
        "You might wish to check your model against `sklearn.neural_network.MLP` but we do not require this."
      ]
    },
    {
      "cell_type": "code",
      "metadata": {
        "id": "rRqh938n1V0S"
      },
      "source": [
        "X,y = make_classification(n_samples = 2000,n_repeated= 2, n_classes=5,n_informative=4)\n",
        "\n",
        "X_train, X_test, y_train, y_test = train_test_split(\n",
        "    X, y, test_size=0.5)\n",
        "\n",
        "\n",
        "##generate my MMLP\n",
        "my_MMLP = MMLP(X_train[1],5)\n",
        "##my MMLP fit to the train data\n",
        "accuracies_train_MMLP, accuracies_test_MMLP = my_MMLP.fit(X_train,y_train,X_test=X_test,y_test=y_test)\n",
        "y_hat = my_MMLP.predict(X_test)                                           \n"
      ],
      "execution_count": null,
      "outputs": []
    },
    {
      "cell_type": "code",
      "metadata": {
        "id": "ZAVht1VCUge1",
        "colab": {
          "base_uri": "https://localhost:8080/",
          "height": 436
        },
        "outputId": "cc887619-5044-4f5c-a088-18860f8996c2"
      },
      "source": [
        "plt.plot(accuracies_train_MMLP,label = \"train accuracy\")\n",
        "plt.plot(accuracies_test_MMLP,label = \"test accuracy\")\n",
        "plt.legend()\n",
        "plt.xlabel(\"Epochs\")\n",
        "plt.ylabel(\"Accuracy\")\n",
        "plt.title(\"Accuracies for training and test dateset\")\n",
        "plt.show()\n",
        "\n",
        "precision,recall,micro_f1,macro_f1 = cla_report(y_test, y_hat)\n",
        "print(\"presions:\")\n",
        "print(precision)\n",
        "print(\"recalls:\")\n",
        "print(recall)\n",
        "print(\"micro_f1:\")\n",
        "print(micro_f1)\n",
        "print(\"macro_f1:\")\n",
        "print(macro_f1)"
      ],
      "execution_count": null,
      "outputs": [
        {
          "output_type": "display_data",
          "data": {
            "image/png": "[encoded data removed]",
            "text/plain": [
              "<Figure size 432x288 with 1 Axes>"
            ]
          },
          "metadata": {
            "tags": [],
            "needs_background": "light"
          }
        },
        {
          "output_type": "stream",
          "text": [
            "presions:\n",
            "[[0, 0.54], [1, 0.64], [2, 0.54], [3, 0.58], [4, 0.55]]\n",
            "recalls:\n",
            "[[0, 0.53], [1, 0.78], [2, 0.53], [3, 0.55], [4, 0.48]]\n",
            "micro_f1:\n",
            "0.57\n",
            "macro_f1:\n",
            "0.57\n"
          ],
          "name": "stdout"
        }
      ]
    },
    {
      "cell_type": "markdown",
      "metadata": {
        "id": "LjO3AerFditr"
      },
      "source": [
        "It looks like underfitting"
      ]
    },
    {
      "cell_type": "code",
      "metadata": {
        "id": "MceMYur3VH3G"
      },
      "source": [
        "##generate my MMLP\n",
        "my_MMLP_16 = MMLP(X_train[1],5,hidden_dims = 16)\n",
        "##my MMLP fit to the train data\n",
        "accuracies_train_MMLP_16, accuracies_test_MMLP_16 = my_MMLP_16.fit(X_train,y_train,X_test=X_test,y_test=y_test)\n",
        "y_hat_16 = my_MMLP.predict(X_test)\n",
        "\n",
        "                                               "
      ],
      "execution_count": null,
      "outputs": []
    },
    {
      "cell_type": "code",
      "metadata": {
        "id": "qfGiRge-awaE",
        "colab": {
          "base_uri": "https://localhost:8080/",
          "height": 295
        },
        "outputId": "4ef72fcb-1762-4074-e533-3710083926ea"
      },
      "source": [
        "plt.plot(accuracies_train_MMLP_16,'b',label = \"train accuracy (16)\")\n",
        "plt.plot(accuracies_test_MMLP_16,'b',label = \"test accuracy (16)\",linestyle='dashed')\n",
        "plt.legend()\n",
        "plt.xlabel(\"Epochs\")\n",
        "plt.ylabel(\"Accuracy\")\n",
        "plt.title(\"Accuracies for training and test dateset\")\n",
        "plt.show()"
      ],
      "execution_count": null,
      "outputs": [
        {
          "output_type": "display_data",
          "data": {
            "image/png": "[encoded data removed]",
            "text/plain": [
              "<Figure size 432x288 with 1 Axes>"
            ]
          },
          "metadata": {
            "tags": [],
            "needs_background": "light"
          }
        }
      ]
    },
    {
      "cell_type": "code",
      "metadata": {
        "id": "SwWvtP1QeJY7",
        "colab": {
          "base_uri": "https://localhost:8080/",
          "height": 158
        },
        "outputId": "9865d29a-aa45-4235-88d4-9c981b5f5618"
      },
      "source": [
        "y_hat_16 = MMLP16.predict(X_test)\n",
        "precision_16,recall_16,micro_f1_16,macro_f1_16 = cla_report(y_test, y_hat_16)\n",
        "print(\"presions:\")\n",
        "print(precision_16)\n",
        "print(\"recalls:\")\n",
        "print(recall_16)\n",
        "print(\"micro_f1:\")\n",
        "print(micro_f1_16)\n",
        "print(\"macro_f1:\")\n",
        "print(macro_f1_16)"
      ],
      "execution_count": null,
      "outputs": [
        {
          "output_type": "stream",
          "text": [
            "presions:\n",
            "[[0, 0.58], [1, 0.72], [2, 0.58], [3, 0.6], [4, 0.57]]\n",
            "recalls:\n",
            "[[0, 0.54], [1, 0.74], [2, 0.64], [3, 0.62], [4, 0.53]]\n",
            "micro_f1:\n",
            "0.61\n",
            "macro_f1:\n",
            "0.61\n"
          ],
          "name": "stdout"
        }
      ]
    },
    {
      "cell_type": "code",
      "metadata": {
        "id": "m_MBYbe3cnzR"
      },
      "source": [
        "##generate my MMLP\n",
        "my_MMLP_256 = MMLP(X_train[1],5,hidden_dims = 256)\n",
        "##my MMLP fit to the train data\n",
        "accuracies_train_MMLP_256, accuracies_test_MMLP_256 = my_MMLP_256.fit(X_train,y_train,X_test=X_test,y_test=y_test)\n",
        "y_hat_256 = my_MMLP.predict(X_test)\n"
      ],
      "execution_count": null,
      "outputs": []
    },
    {
      "cell_type": "code",
      "metadata": {
        "id": "e05BE2oNdOWM",
        "colab": {
          "base_uri": "https://localhost:8080/",
          "height": 295
        },
        "outputId": "b80727d0-5bdd-4bfe-afa6-18e3408e76fa"
      },
      "source": [
        "\n",
        "plt.plot(accuracies_train_MMLP_256,'g',label = \"train accuracy (256)\")\n",
        "plt.plot(accuracies_test_MMLP_256,'g',label = \"test accuracy (256)\",linestyle='dashed')\n",
        "plt.legend()\n",
        "plt.xlabel(\"Epochs\")\n",
        "plt.ylabel(\"Accuracy\")\n",
        "plt.title(\"Accuracies for training and test dateset\")\n",
        "plt.show()"
      ],
      "execution_count": null,
      "outputs": [
        {
          "output_type": "display_data",
          "data": {
            "image/png": "[encoded data removed]",
            "text/plain": [
              "<Figure size 432x288 with 1 Axes>"
            ]
          },
          "metadata": {
            "tags": [],
            "needs_background": "light"
          }
        }
      ]
    },
    {
      "cell_type": "code",
      "metadata": {
        "id": "XA27oDQSdQPH",
        "colab": {
          "base_uri": "https://localhost:8080/",
          "height": 175
        },
        "outputId": "3961db21-14bf-4a83-c1a7-ddb3058214fb"
      },
      "source": [
        "y_hat_256 = MMLP256.predict(X_test)\n",
        "precision_256,recall_256,micro_f1_256,macro_f1_256 = cla_report(y_test, y_hat_256)\n",
        "print(\"presions:\")\n",
        "print(precision_256)\n",
        "print(\"recalls:\")\n",
        "print(recall_256)\n",
        "print(\"micro_f1:\")\n",
        "print(micro_f1_256)\n",
        "print(\"macro_f1:\")\n",
        "print(macro_f1_256)"
      ],
      "execution_count": null,
      "outputs": [
        {
          "output_type": "stream",
          "text": [
            "presions:\n",
            "[[0, 0.5], [1, 0.55], [2, nan], [3, 0.49], [4, 0.45]]\n",
            "recalls:\n",
            "[[0, 0.74], [1, 0.74], [2, 0.0], [3, 0.55], [4, 0.52]]\n",
            "micro_f1:\n",
            "0.5\n",
            "macro_f1:\n",
            "nan\n"
          ],
          "name": "stdout"
        },
        {
          "output_type": "stream",
          "text": [
            "/usr/local/lib/python3.6/dist-packages/ipykernel_launcher.py:23: RuntimeWarning: invalid value encountered in double_scalars\n"
          ],
          "name": "stderr"
        }
      ]
    },
    {
      "cell_type": "code",
      "metadata": {
        "id": "BU3ifa7YfSua"
      },
      "source": [
        ""
      ],
      "execution_count": null,
      "outputs": []
    }
  ]
}